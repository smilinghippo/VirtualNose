{
 "cells": [
  {
   "cell_type": "code",
   "execution_count": 1,
   "metadata": {},
   "outputs": [],
   "source": [
    "import numpy as np\n",
    "import matplotlib.pyplot as plt\n",
    "import pandas as pd"
   ]
  },
  {
   "cell_type": "code",
   "execution_count": 36,
   "metadata": {
    "scrolled": true
   },
   "outputs": [
    {
     "name": "stdout",
     "output_type": "stream",
     "text": [
      "2610C\n",
      "eth\n",
      "[-0.520537    4.79196019]\n",
      "hyd\n",
      "[-0.29269438  2.76168357]\n",
      "met\n",
      "[-0.33378431  2.65259634]\n",
      "ibut\n",
      "[-0.37456137  2.71793554]\n",
      "prop\n",
      "[-0.37456137  2.71793554]\n",
      "2610D\n",
      "eth\n",
      "[-0.00783943  0.04313954  2.33228852]\n",
      "hyd\n",
      "[-0.01550003 -0.13332885  2.33334155]\n",
      "met\n",
      "[-0.02393278 -0.07988081  2.33720834]\n",
      "ibut\n",
      "[-0.02587157 -0.11532545  2.32664566]\n",
      "prop\n",
      "[-0.02820639 -0.10505025  2.32967364]\n",
      "2611C\n",
      "eth\n",
      "[-0.0334765   0.13054264  2.14195564]\n",
      "hyd\n",
      "[-0.02779698  0.06228454  2.14556136]\n",
      "met\n",
      "[-0.02802611 -0.01054201  2.14001655]\n",
      "ibut\n",
      "[-0.03170528  0.08343952  2.14147512]\n",
      "2611E\n",
      "eth\n",
      "[ 6.32860779e-04 -9.49948795e-03  2.16994847e+00]\n",
      "hyd\n",
      "[-0.01990088 -0.01657128  2.17242723]\n",
      "met\n",
      "[-0.02178998 -0.0666278   2.17093562]\n",
      "ibut\n",
      "[ 1.97305451e-03 -2.77044857e-02  2.16696926e+00]\n",
      "821\n",
      "eth\n",
      "[-0.05202049  0.55140452  2.17036367]\n",
      "hyd\n",
      "[-0.03111648 -0.37389274  2.40809788]\n",
      "met\n",
      "[-0.06243998  0.65452653  2.17039244]\n",
      "co\n",
      "[-0.0788518   0.60331319  2.17085363]\n",
      "2602\n",
      "eth\n",
      "[-0.02704552 -0.38672464 -0.18446568]\n",
      "hyd\n",
      "[ 0.0130067  -0.14484292 -0.08019489]\n",
      "amm\n",
      "[-0.04203248 -0.16737745 -0.12985859]\n",
      "h2s\n",
      "[-0.12014485 -0.46596887 -0.78432546]\n",
      "tol\n",
      "[ 0.09512849 -1.00439805 -0.77120877]\n",
      "2620\n",
      "eth\n",
      "[-0.01461021 -0.44820748  3.09488812]\n",
      "hyd\n",
      "[ 2.99179660e-03 -5.47777751e-01  3.07273115e+00]\n",
      "met\n",
      "[-3.19579850e-02  2.08310406e-03  3.10892742e+00]\n",
      "co\n",
      "[-0.01943419 -0.28624749  3.11247261]\n",
      "ibut\n",
      "[-1.86217039e-03 -4.88432138e-01  3.15151877e+00]\n",
      "[3.5995916  2.97113608 0.4492692  0.45320088 2.77836035 5.\n",
      " 0.38546905]\n"
     ]
    }
   ],
   "source": [
    "\n",
    "def voltage_for_comp(x, y, comp):\n",
    "    logx = np.log(x)\n",
    "    logy = np.log(y)\n",
    "    co = np.polyfit(logx,logy,deg=1)\n",
    "    poly = np.poly1d(co)\n",
    "    print(co)\n",
    "    B=np.exp(poly(np.log(comp)))\n",
    "    V=20000/((6466*B)+4000)\n",
    "    return V\n",
    "\n",
    "def voltage_for_comp_821(x, y, comp):\n",
    "    logx = np.log(x)\n",
    "    logy = np.log(y)\n",
    "    co = np.polyfit(logx,logy,deg=2)\n",
    "    poly = np.poly1d(co)\n",
    "    print(co)\n",
    "    B=np.exp(poly(np.log(comp)))\n",
    "    V=10000/((1800*B)+2000)\n",
    "    return V\n",
    "def voltage_for_comp_2602(x, y, comp):\n",
    "    logx = np.log(x)\n",
    "    logy = np.log(y)\n",
    "    co = np.polyfit(logx,logy,deg=2)\n",
    "    poly = np.poly1d(co)\n",
    "    print(co)\n",
    "    B=np.exp(poly(np.log(comp)))\n",
    "    V=5000/((90000*B)+1000)\n",
    "    return V\n",
    "def voltage_for_comp_2620(x, y, comp):\n",
    "    logx = np.log(x)\n",
    "    logy = np.log(y)\n",
    "    co = np.polyfit(logx,logy,deg=2)\n",
    "    poly = np.poly1d(co)\n",
    "    print(co)\n",
    "    B=np.exp(poly(np.log(comp)))\n",
    "    V=5000/((4286*B)+1000)\n",
    "    return V\n",
    "\n",
    "def voltage_for_comp_2610D(x, y, comp):\n",
    "    logx = np.log(x)\n",
    "    logy = np.log(y)\n",
    "    co = np.polyfit(logx,logy,deg=2)\n",
    "    poly = np.poly1d(co)\n",
    "    print(co)\n",
    "    B=np.exp(poly(np.log(comp)))\n",
    "    V=10000/((6466*B)+2000)\n",
    "    return V\n",
    "\n",
    "def voltage_for_comp_2611(x, y, comp):\n",
    "    logx = np.log(x)\n",
    "    logy = np.log(y)\n",
    "    co = np.polyfit(logx,logy,deg=2)\n",
    "    poly = np.poly1d(co)\n",
    "    print(co)\n",
    "    B=np.exp(poly(np.log(comp)))\n",
    "    V=10000/((10227*B)+2000)\n",
    "    return V\n",
    "\n",
    "\n",
    "def TGS2610C_voltage(competh, comphyd, compmet, compibut, compprop, compair):\n",
    "    Ve=0.;Vh=0.; Vam=0.;Vtol=0.;Vh2s=0.;Va=0.; Vm=0.;Vc=0.;Vib=0.;Va=0.; Vc=0.; Vp=0.\n",
    "    print(\"2610C\")\n",
    "    print(\"eth\")\n",
    "    eth= pd.read_csv('D:\\RyanB\\VirtualNose\\TGS2610C\\TGS2610C Ethanol.csv', sep=',', names=['C' , 'B'])\n",
    "    \n",
    "    Ve=voltage_for_comp(eth['C'], eth['B'], competh)\n",
    "    print(\"hyd\")\n",
    "    hyd= pd.read_csv('D:\\RyanB\\VirtualNose\\TGS2610C\\TGS2610C Hydrogen.csv', sep=',', names=['C' , 'B'])\n",
    "    hyd.loc[len(hyd.index)]= [1,9.392099]\n",
    "    Vh=voltage_for_comp(hyd['C'], hyd['B'], comphyd)\n",
    "        \n",
    "    print(\"met\")\n",
    "    met= pd.read_csv('D:\\RyanB\\VirtualNose\\TGS2610C\\TGS2610C Methane.csv', sep=',', names=['C' , 'B'])\n",
    "    met.loc[len(met.index)]= [1,9.392099]\n",
    "    Vm=voltage_for_comp(met['C'], met['B'], compmet)\n",
    "        \n",
    "    print(\"ibut\")\n",
    "    ibut= pd.read_csv('D:\\RyanB\\VirtualNose\\TGS2610C\\TGS2610C Isobutane_Propane.csv', sep=',', names=['C' , 'B'])\n",
    "    ibut.loc[len(ibut.index)]= [1,9.392099]\n",
    "    Vib=voltage_for_comp(ibut['C'], ibut['B'], compibut)\n",
    "        \n",
    "    print(\"prop\")\n",
    "    prop= pd.read_csv('D:\\RyanB\\VirtualNose\\TGS2610C\\TGS2610C Isobutane_Propane.csv', sep=',', names=['C' , 'B'])\n",
    "    prop.loc[len(prop.index)]= [1,9.392099]\n",
    "    Vp=voltage_for_comp(prop['C'], prop['B'], compprop)\n",
    "        \n",
    "    #air= pd.read_csv('D:\\RyanB\\VirtualNose\\TGS2610C\\TGS2610C Air.csv', sep=',', names=['C' , 'B'])\n",
    "    #Va=voltage_for_comp(air['C'], air['B'], compair)\n",
    "    Vrl=Ve+Vh+Vm+Vib+Vp\n",
    "    if Vrl>=5:\n",
    "        Vrl=5\n",
    "    return Vrl\n",
    "\n",
    "\n",
    "\n",
    "def TGS2610D_voltage(competh, comphyd, compmet, compibut, compprop, compair):\n",
    "    Ve=0.;Vh=0.; Vam=0.;Vtol=0.;Vh2s=0.;Va=0.; Vm=0.;Vc=0.;Vib=0.;Va=0.; Vc=0.; Vp=0.\n",
    "    print(\"2610D\")\n",
    "    #if competh>10:\n",
    "    print(\"eth\")\n",
    "    eth= pd.read_csv('D:\\RyanB\\VirtualNose\\TGS2610D\\TGS2610D Ethanol.csv', sep=',', names=['C' , 'B'])\n",
    "    eth.loc[len(eth.index)]= [1,10.268198]\n",
    "    Ve=voltage_for_comp_2610D(eth['C'], eth['B'], competh)\n",
    "    #if comphyd>10:\n",
    "    print(\"hyd\")\n",
    "    hyd= pd.read_csv('D:\\RyanB\\VirtualNose\\TGS2610D\\TGS2610D Hydrogen.csv', sep=',', names=['C' , 'B'])\n",
    "    hyd.loc[len(hyd.index)]= [1,10.268198]\n",
    "    Vh=voltage_for_comp_2610D(hyd['C'], hyd['B'], comphyd)\n",
    "    #if compmet>10:\n",
    "    print(\"met\")\n",
    "    met= pd.read_csv('D:\\RyanB\\VirtualNose\\TGS2610D\\TGS2610D Methane.csv', sep=',', names=['C' , 'B'])\n",
    "    met.loc[len(met.index)]= [1,10.268198]\n",
    "    Vm=voltage_for_comp_2610D(met['C'], met['B'], compmet)\n",
    "   # if compibut>10:\n",
    "    print(\"ibut\")\n",
    "    ibut= pd.read_csv('D:\\RyanB\\VirtualNose\\TGS2610D\\TGS2610D Iso Butane.csv', sep=',', names=['C' , 'B'])\n",
    "    ibut.loc[len(ibut.index)]= [1,10.268198]\n",
    "    Vib=voltage_for_comp_2610D(ibut['C'], ibut['B'], compibut)\n",
    "   # if compprop>10:\n",
    "    print(\"prop\")\n",
    "    prop= pd.read_csv('D:\\RyanB\\VirtualNose\\TGS2610D\\TGS2610D Propane.csv', sep=',', names=['C' , 'B'])\n",
    "    prop.loc[len(prop.index)]= [1,10.268198]\n",
    "    Vp=voltage_for_comp_2610D(prop['C'], prop['B'], compprop)\n",
    "    #air= pd.read_csv('D:\\RyanB\\VirtualNose\\TGS2610D\\TGS2610D Air.csv', sep=',', names=['C' , 'B'])\n",
    "    #Va=voltage_for_comp_2610D(air['C'], air['B'], compair)\n",
    "    Vrl=Ve+Vh+Vm+Vib+Vp\n",
    "    if Vrl>=5:\n",
    "        Vrl=5\n",
    "    return Vrl\n",
    "\n",
    "\n",
    "def TGS2611C_voltage(competh, comphyd, compmet, compibut, compair):\n",
    "    Ve=0.;Vh=0.; Vam=0.;Vtol=0.;Vh2s=0.;Va=0.; Vm=0.;Vc=0.;Vib=0.;Va=0.; Vc=0.\n",
    "    print(\"2611C\")\n",
    "    print(\"eth\")\n",
    "    eth= pd.read_csv('D:\\RyanB\\VirtualNose\\TGS2611C\\TGS2611C Ethanol.csv', sep=',', names=['C' , 'B'])\n",
    "    eth.loc[len(eth.index)]= [1,8.462154]\n",
    "    Ve=voltage_for_comp_2611(eth['C'], eth['B'], competh)\n",
    "    print(\"hyd\")\n",
    "    hyd= pd.read_csv('D:\\RyanB\\VirtualNose\\TGS2611C\\TGS2611C Hydrogen.csv', sep=',', names=['C' , 'B'])\n",
    "    hyd.loc[len(hyd.index)]= [1,8.462154]\n",
    "    Vh=voltage_for_comp_2611(hyd['C'], hyd['B'], comphyd)\n",
    "    print(\"met\")\n",
    "    met= pd.read_csv('D:\\RyanB\\VirtualNose\\TGS2611C\\TGS2611C Methane.csv', sep=',', names=['C' , 'B'])\n",
    "    met.loc[len(met.index)]= [1,8.462154]\n",
    "    Vm=voltage_for_comp_2611(met['C'], met['B'], compmet)\n",
    "    print(\"ibut\")\n",
    "    ibut= pd.read_csv('D:\\RyanB\\VirtualNose\\TGS2611C\\TGS2611C Iso Butane.csv', sep=',', names=['C' , 'B'])\n",
    "    ibut.loc[len(ibut.index)]= [1,8.462154]\n",
    "    Vib=voltage_for_comp_2611(ibut['C'], ibut['B'], compibut)\n",
    "    #air= pd.read_csv('D:\\RyanB\\VirtualNose\\TGS2611C\\TGS2611C Air.csv', sep=',', names=['C' , 'B'])\n",
    "    #Va=voltage_for_comp_2611(air['C'], air['B'], compair)\n",
    "    Vrl=Ve+Vh+Vm+Vib\n",
    "    if Vrl>=5.:\n",
    "        Vrl=5\n",
    "    return Vrl\n",
    "\n",
    "8.760497\n",
    "\n",
    "def TGS2611E_voltage(competh, comphyd, compmet, compibut, compair):\n",
    "    Ve=0.;Vh=0.; Vam=0.;Vtol=0.;Vh2s=0.;Va=0.; Vm=0.;Vc=0.;Vib=0.;Va=0.; Vc=0.\n",
    "    print(\"2611E\")\n",
    "    print(\"eth\")\n",
    "    eth= pd.read_csv('D:\\RyanB\\VirtualNose\\TGS2611E\\TGS2611E Ethanol.csv', sep=',', names=['C' , 'B'])\n",
    "    eth.loc[len(eth.index)]= [1,8.760497]\n",
    "    Ve=voltage_for_comp_2611(eth['C'], eth['B'], competh)\n",
    "    print(\"hyd\")\n",
    "    hyd= pd.read_csv('D:\\RyanB\\VirtualNose\\TGS2611E\\TGS2611E Hydrogen.csv', sep=',', names=['C' , 'B'])\n",
    "    hyd.loc[len(hyd.index)]= [1,8.760497]\n",
    "    Vh=voltage_for_comp_2611(hyd['C'], hyd['B'], comphyd)\n",
    "    print(\"met\")\n",
    "    met= pd.read_csv('D:\\RyanB\\VirtualNose\\TGS2611E\\TGS2611E Methane.csv', sep=',', names=['C' , 'B'])\n",
    "    met.loc[len(met.index)]= [1,8.760497]\n",
    "    Vm=voltage_for_comp_2611(met['C'], met['B'], compmet)\n",
    "    print(\"ibut\")\n",
    "    ibut= pd.read_csv('D:\\RyanB\\VirtualNose\\TGS2611E\\TGS2611E Isobutane.csv', sep=',', names=['C' , 'B'])\n",
    "    ibut.loc[len(ibut.index)]= [1,8.760497]\n",
    "    Vib=voltage_for_comp_2611(ibut['C'], ibut['B'], compibut)\n",
    "    #air= pd.read_csv('D:\\RyanB\\VirtualNose\\TGS2611E\\TGS2611E Air.csv', sep=',', names=['C' , 'B'])\n",
    "    #Va=voltage_for_comp_2611(air['C'], air['B'], compair)\n",
    "    Vrl=Ve+Vh+Vm+Vib\n",
    "    if Vrl>=5:\n",
    "        Vrl=5\n",
    "    return Vrl\n",
    "\n",
    "\n",
    "46.802631\n",
    "\n",
    "def TGS821_voltage(competh, comphyd, compmet, compco, compair):\n",
    "    Ve=0.;Vh=0.; Vam=0.;Vtol=0.;Vh2s=0.;Va=0.; Vm=0.;Vc=0.;Vib=0.;Va=0.; Vc=0.\n",
    "    print(\"821\")\n",
    "    print(\"eth\")\n",
    "    eth= pd.read_csv('D:\\RyanB\\VirtualNose\\TGS821\\TGS821 Ethanol.csv', sep=',', names=['C' , 'B'])\n",
    "    eth.loc[len(eth.index)]= [1,8.760497]\n",
    "    Ve=voltage_for_comp_821(eth['C'], eth['B'], competh)\n",
    "    print(\"hyd\")\n",
    "    hyd= pd.read_csv('D:\\RyanB\\VirtualNose\\TGS821\\TGS821 Hydrogen.csv', sep=',', names=['C' , 'B'])\n",
    "    hyd.loc[len(hyd.index)]= [1,8.760497]\n",
    "    Vh=voltage_for_comp_821(hyd['C'], hyd['B'], comphyd)\n",
    "    print(\"met\")\n",
    "    met= pd.read_csv('D:\\RyanB\\VirtualNose\\TGS821\\TGS821 Methane.csv', sep=',', names=['C' , 'B'])\n",
    "    met.loc[len(met.index)]= [1,8.760497]\n",
    "    Vm=voltage_for_comp_821(met['C'], met['B'], compmet)\n",
    "    print(\"co\")\n",
    "    co= pd.read_csv('D:\\RyanB\\VirtualNose\\TGS821\\TGS821 CO.csv', sep=',', names=['C' , 'B'])\n",
    "    co.loc[len(co.index)]= [1,8.760497]\n",
    "    Vc=voltage_for_comp_821(co['C'], co['B'], compco)\n",
    "    #air= pd.read_csv('D:\\RyanB\\VirtualNose\\TGS821\\TGS821 Air.csv', sep=',', names=['C' , 'B'])\n",
    "    #Va=voltage_for_comp_821(air['C'], air['B'], compair)\n",
    "    Vrl=Ve+Vh+Vm+Vc\n",
    "    if Vrl>=5:\n",
    "        Vrl=5\n",
    "    return Vrl\n",
    "\n",
    "def TGS2602_voltage(competh, comphyd, compamm, comph2s, comptol, compair):\n",
    "    Ve=0.;Vh=0.; Vam=0.;Vtol=0.;Vh2s=0.;Va=0.\n",
    "    print(\"2602\")\n",
    "    print(\"eth\")\n",
    "    eth= pd.read_csv('D:\\RyanB\\VirtualNose\\TGS2602\\TGS2602 Ethanol.csv', sep=',', names=['C' , 'B'])\n",
    "    eth.loc[len(eth.index)]= [1,1.009]\n",
    "    Ve=voltage_for_comp_2602(eth['C'], eth['B'], competh)\n",
    "    print(\"hyd\")\n",
    "    hyd= pd.read_csv('D:\\RyanB\\VirtualNose\\TGS2602\\TGS2602 Hydrogen.csv', sep=',', names=['C' , 'B'])\n",
    "    hyd.loc[len(hyd.index)]= [1,1.009]\n",
    "    Vh=voltage_for_comp_2602(hyd['C'], hyd['B'], comphyd)\n",
    "    print(\"amm\")\n",
    "    amm= pd.read_csv('D:\\RyanB\\VirtualNose\\TGS2602\\TGS2602 Ammonia.csv', sep=',', names=['C' , 'B'])\n",
    "    amm.loc[len(amm.index)]= [1,1.009]\n",
    "    Vam=voltage_for_comp_2602(amm['C'], amm['B'], compamm)\n",
    "    print(\"h2s\")\n",
    "    h2s= pd.read_csv('D:\\RyanB\\VirtualNose\\TGS2602\\TGS2602 H2S.csv', sep=',', names=['C' , 'B'])\n",
    "    h2s.loc[len(h2s.index)]= [1,1.009]\n",
    "    Vh2s=voltage_for_comp_2602(h2s['C'], h2s['B'], comph2s)\n",
    "    print(\"tol\")\n",
    "    tol= pd.read_csv('D:\\RyanB\\VirtualNose\\TGS2602\\TGS2602 Toluene.csv', sep=',', names=['C' , 'B'])\n",
    "    tol.loc[len(tol.index)]= [1,1.009]\n",
    "    Vtol=voltage_for_comp_2602(tol['C'], tol['B'], comptol)\n",
    "    #air= pd.read_csv('D:\\RyanB\\VirtualNose\\TGS2602\\TGS2602 Air.csv', sep=',', names=['C' , 'B'])\n",
    "    #Va=voltage_for_comp_2602(air['C'], air['B'], compair)\n",
    "    Vrl=Ve+Vh+Vam+Vh2s+Vtol\n",
    "    if Vrl>=5:\n",
    "        Vrl=5\n",
    "    return Vrl\n",
    "\n",
    "def TGS2620_voltage(competh, comphyd, compmet, compco, compair, compibut):\n",
    "    Ve=0.;Vh=0.; Vm=0.;Vc=0.;Vib=0.;Va=0.\n",
    "    print(\"2620\")\n",
    "    print(\"eth\")\n",
    "    eth= pd.read_csv('D:\\RyanB\\VirtualNose\\TGS2620\\TGS2620 Ethanol.csv', sep=',', names=['C' , 'B'])\n",
    "    eth.loc[len(eth.index)]= [1,21.274965]\n",
    "    Ve=voltage_for_comp_2620(eth['C'], eth['B'], competh)\n",
    "    print(\"hyd\")\n",
    "    hyd= pd.read_csv('D:\\RyanB\\VirtualNose\\TGS2620\\TGS2620 Hydrogen.csv', sep=',', names=['C' , 'B'])\n",
    "    hyd.loc[len(hyd.index)]= [1,21.274965]\n",
    "    Vh=voltage_for_comp_2620(hyd['C'], hyd['B'], comphyd)\n",
    "    print(\"met\")\n",
    "    met= pd.read_csv('D:\\RyanB\\VirtualNose\\TGS2620\\TGS2620 Methane.csv', sep=',', names=['C' , 'B'])\n",
    "    met.loc[len(met.index)]= [1,21.274965]\n",
    "    Vm=voltage_for_comp_2620(met['C'], met['B'], compmet)\n",
    "    print(\"co\")\n",
    "    co= pd.read_csv('D:\\RyanB\\VirtualNose\\TGS2620\\TGS2620 CO.csv', sep=',', names=['C' , 'B'])\n",
    "    co.loc[len(co.index)]= [1,21.274965]\n",
    "    Vc=voltage_for_comp_2620(co['C'], co['B'], compco)\n",
    "    print(\"ibut\")\n",
    "    ibut= pd.read_csv('D:\\RyanB\\VirtualNose\\TGS2620\\TGS2620 Isobutane.csv', sep=',', names=['C' , 'B'])\n",
    "    ibut.loc[len(ibut.index)]= [1,21.274965]\n",
    "    Vib=voltage_for_comp_2620(ibut['C'], ibut['B'], compibut)\n",
    "    #air= pd.read_csv('D:\\RyanB\\VirtualNose\\TGS2620\\TGS2620 Air.csv', sep=',', names=['C' , 'B'])\n",
    "    #Va=voltage_for_comp_2620(air['C'], air['B'], compair)\n",
    "    Vrl=Ve+Vh+Vm+Vc+Vib\n",
    "    if Vrl>=5:\n",
    "        Vrl=5\n",
    "    return Vrl\n",
    "\n",
    "def Voltage_Virtual_Nose(competh, comphyd, compmet, compibut, compprop, compair, compco, comph2s,comptol,compamm):     \n",
    "    VT=np.array([0.,0.,0.,0.,0.,0.,0.])\n",
    "    competh=1; comphyd=10; compmet=1; compibut=1; compprop=10000; compair=1000000; compco=1; comph2s=100; comptol=100; compamm=100\n",
    "    VT[0]= TGS2610C_voltage(competh, comphyd, compmet, compibut, compprop, compair)\n",
    "    VT[1]= TGS2610D_voltage(competh, comphyd, compmet, compibut, compprop, compair)\n",
    "    VT[2]= TGS2611C_voltage(competh, comphyd, compmet, compibut, compair) \n",
    "    VT[3]= TGS2611E_voltage(competh, comphyd, compmet, compibut, compair)\n",
    "    VT[4]= TGS821_voltage(competh, comphyd, compmet, compco, compair)\n",
    "    VT[5]= TGS2602_voltage(competh, comphyd, compamm, comph2s, comptol, compair)\n",
    "    VT[6]= TGS2620_voltage(competh, comphyd, compmet, compco, compair, compibut)\n",
    "    return VT\n",
    "#competh=1; comphyd=10; compmet=1; compibut=1; compprop=10000; compair=1000000; compco=1; comph2s=100; comptol=100; compamm=100\n",
    "\n",
    "\n",
    "V=Voltage_Virtual_Nose(1000, 1000, 1000, 1000, 1000,1000, 1000,1000,1000,1000) \n",
    "\n",
    "print(V)"
   ]
  },
  {
   "cell_type": "code",
   "execution_count": 170,
   "metadata": {},
   "outputs": [
    {
     "name": "stdout",
     "output_type": "stream",
     "text": [
      "[3.29218699e-08 4.31153559e-07 3.21432436e-01 9.04835929e-06]\n"
     ]
    },
    {
     "data": {
      "image/png": "[encoded data removed]",
      "text/plain": [
       "<Figure size 432x288 with 1 Axes>"
      ]
     },
     "metadata": {
      "needs_background": "light"
     },
     "output_type": "display_data"
    }
   ],
   "source": [
    "import numpy as np\n",
    "from scipy.optimize import curve_fit\n",
    "import pandas as pd\n",
    "import matplotlib.pyplot as plt\n",
    "import math\n",
    "\n",
    "def polynomial(x, A, B, C, D):\n",
    "#def polynomial(x, A, B, C):\n",
    "   # L=1\n",
    "   # L=1/ (1 + np.exp(E-D*x))\n",
    "    x=A*x+B\n",
    "    return A*x**2+ B*x +C + D/(x)\n",
    "   # return (A*x)/(B+A*x)\n",
    "    #return np.exp(A*x+B)+np.exp(-A*x+B)/(np.exp(A*x+B)-np.exp(-A*x+B))*C*x**D\n",
    "    #return np.cos(x)*C\n",
    "#poly, csch, logistic, adsorption, \n",
    "\n",
    "\n",
    "x0=np.logspace(-3,4, 5000, base=10)\n",
    "y0=np.zeros(len(x0))\n",
    "\n",
    "\n",
    "\n",
    "\n",
    "eth=  pd.read_csv('D:\\RyanB\\VirtualNose\\TGS2620\\TGS2620 Isobutane.csv', sep=',', names=['C' , 'B'])\n",
    "eth.loc[len(eth.index)]= [0.01,21.274965]\n",
    "eth.loc[len(eth.index)]= [0.02,21.274965]\n",
    "eth.loc[len(eth.index)]= [0.03,21.274965]\n",
    "#eth.loc[len(eth.index)]= [1,1.009]\n",
    "#eth.loc[len(eth.index)]= [100,1.009]\n",
    "eth.loc[len(eth.index)]=[1e5, 0.2]\n",
    "x=eth['C']\n",
    "y=eth['B']\n",
    "popt, pcov = curve_fit(polynomial, x, y, [2.47572096e-07, 1.79901026e-06, 4.03490222e-01, 3.76505231e-05])\n",
    "print(popt)\n",
    "\n",
    "x0=np.logspace(-5,8, 50000, base=10)\n",
    "plt.plot(x0, polynomial(x0, *popt))\n",
    "\n",
    "\n",
    "\n",
    "plt.scatter(x,y)\n",
    "#plt.plot(x0, y0)\n",
    "\n",
    "plt.yscale(\"log\")\n",
    "plt.xscale(\"log\")"
   ]
  },
  {
   "cell_type": "code",
   "execution_count": 123,
   "metadata": {},
   "outputs": [],
   "source": [
    "def TGS2620_voltage(competh, comphyd, compmet, compco, compair, compibut):\n",
    "    Ve=0.;Vh=0.; Vm=0.;Vc=0.;Vib=0.;Va=0.\n",
    "    print(\"2620\")\n",
    "    print(\"eth\")\n",
    "    eth= pd.read_csv('D:\\RyanB\\VirtualNose\\TGS2620\\TGS2620 Ethanol.csv', sep=',', names=['C' , 'B'])\n",
    "    eth.loc[len(eth.index)]= [1,21.274965]\n",
    "    Ve=voltage_for_comp_2620(eth['C'], eth['B'], competh)\n",
    "    print(\"hyd\")\n",
    "    hyd= pd.read_csv('D:\\RyanB\\VirtualNose\\TGS2620\\TGS2620 Hydrogen.csv', sep=',', names=['C' , 'B'])\n",
    "    hyd.loc[len(hyd.index)]= [1,21.274965]\n",
    "    Vh=voltage_for_comp_2620(hyd['C'], hyd['B'], comphyd)\n",
    "    print(\"met\")\n",
    "    met= pd.read_csv('D:\\RyanB\\VirtualNose\\TGS2620\\TGS2620 Methane.csv', sep=',', names=['C' , 'B'])\n",
    "    met.loc[len(met.index)]= [1,21.274965]\n",
    "    Vm=voltage_for_comp_2620(met['C'], met['B'], compmet)\n",
    "    print(\"co\")\n",
    "    co= pd.read_csv('D:\\RyanB\\VirtualNose\\TGS2620\\TGS2620 CO.csv', sep=',', names=['C' , 'B'])\n",
    "    co.loc[len(co.index)]= [1,21.274965]\n",
    "    Vc=voltage_for_comp_2620(co['C'], co['B'], compco)\n",
    "    print(\"ibut\")\n",
    "    ibut= pd.read_csv('D:\\RyanB\\VirtualNose\\TGS2620\\TGS2620 Isobutane.csv', sep=',', names=['C' , 'B'])\n",
    "    ibut.loc[len(ibut.index)]= [1,21.274965]\n",
    "    Vib=voltage_for_comp_2620(ibut['C'], ibut['B'], compibut)\n",
    "    #air= pd.read_csv('D:\\RyanB\\VirtualNose\\TGS2620\\TGS2620 Air.csv', sep=',', names=['C' , 'B'])\n",
    "    #Va=voltage_for_comp_2620(air['C'], air['B'], compair)\n",
    "    Vrl=Ve+Vh+Vm+Vc+Vib\n",
    "    if Vrl>=5:\n",
    "        Vrl=5\n",
    "    return Vrl"
   ]
  },
  {
   "cell_type": "code",
   "execution_count": 34,
   "metadata": {},
   "outputs": [],
   "source": [
    "import pandas as pd\n"
   ]
  },
  {
   "cell_type": "code",
   "execution_count": 35,
   "metadata": {},
   "outputs": [
    {
     "name": "stdout",
     "output_type": "stream",
     "text": [
      "               C         B\n",
      "0   10000.000000  9.392099\n",
      "1    8811.603465  9.392099\n",
      "2    5927.803146  9.392099\n",
      "3     296.843451  9.392099\n",
      "4     496.558815  9.392099\n",
      "5     597.801192  9.392099\n",
      "6     975.014308  9.392099\n",
      "7    1366.253022  9.392099\n",
      "8    2705.418355  9.392099\n",
      "9    1980.173739  9.392099\n",
      "10   3921.088038  9.392099\n"
     ]
    }
   ],
   "source": [
    "air= pd.read_csv('D:\\RyanB\\VirtualNose\\TGS2610C\\TGS2610C Air.csv', sep=',', names=['C' , 'B'])\n",
    "print(air)"
   ]
  },
  {
   "cell_type": "code",
   "execution_count": 36,
   "metadata": {},
   "outputs": [],
   "source": [
    "eth.loc[len(eth.index)]= [1,9.392099]"
   ]
  },
  {
   "cell_type": "code",
   "execution_count": 37,
   "metadata": {},
   "outputs": [
    {
     "name": "stdout",
     "output_type": "stream",
     "text": [
      "              C         B\n",
      "0   4802.656011  0.186420\n",
      "1   2979.024494  0.245101\n",
      "2   1944.862439  0.322253\n",
      "3   1359.356391  0.404164\n",
      "4    958.255855  0.488118\n",
      "5    652.852114  0.617993\n",
      "6    422.596529  0.812524\n",
      "7    280.639080  1.058255\n",
      "8    197.831888  1.314778\n",
      "9    132.501936  1.680389\n",
      "10    95.825585  2.107514\n",
      "11    71.097094  2.693568\n",
      "12    49.693124  3.608918\n",
      "13     1.000000  9.392099\n",
      "14     1.000000  9.392099\n"
     ]
    }
   ],
   "source": [
    "print(eth)"
   ]
  },
  {
   "cell_type": "code",
   "execution_count": 38,
   "metadata": {},
   "outputs": [],
   "source": [
    "import numpy as np"
   ]
  },
  {
   "cell_type": "code",
   "execution_count": 55,
   "metadata": {},
   "outputs": [
    {
     "data": {
      "text/plain": [
       "[<matplotlib.lines.Line2D at 0x160dfd0d6c8>]"
      ]
     },
     "execution_count": 55,
     "metadata": {},
     "output_type": "execute_result"
    },
    {
     "data": {
      "image/png": "[encoded data removed]",
      "text/plain": [
       "<Figure size 432x288 with 1 Axes>"
      ]
     },
     "metadata": {
      "needs_background": "light"
     },
     "output_type": "display_data"
    }
   ],
   "source": [
    "logx = np.log(eth['C'])\n",
    "logy = np.log(eth['B'])\n",
    "co2= np.polyfit(logx,logy,deg=1)\n",
    "poly2=np.poly1d(co2)\n",
    "eth.loc[len(eth.index)]= [1,9.392099]\n",
    "logx = np.log(eth['C'])\n",
    "logy = np.log(eth['B'])\n",
    "co = np.polyfit(logx,logy,deg=2)\n",
    "poly = np.poly1d(co)\n",
    "xa= np.linspace(0, 4,40)\n",
    "xo= np.linspace(0, 9,len(xa))\n",
    "y=np.zeros(len(xa))\n",
    "yo=np.zeros(len(xa))\n",
    "for i in range(0, len(xa)):\n",
    "    y[i]=poly(xa[i])\n",
    "    yo[i]=poly2(xo[i])\n",
    "plt.plot(xa, y)\n",
    "plt.scatter(logx, logy)\n",
    "plt.plot(xo, yo)"
   ]
  },
  {
   "cell_type": "code",
   "execution_count": 79,
   "metadata": {},
   "outputs": [
    {
     "data": {
      "text/plain": [
       "[<matplotlib.lines.Line2D at 0x160e00dee88>]"
      ]
     },
     "execution_count": 79,
     "metadata": {},
     "output_type": "execute_result"
    },
    {
     "data": {
      "image/png": "[encoded data removed]",
      "text/plain": [
       "<Figure size 432x288 with 1 Axes>"
      ]
     },
     "metadata": {
      "needs_background": "light"
     },
     "output_type": "display_data"
    }
   ],
   "source": [
    "eth= pd.read_csv('D:\\RyanB\\VirtualNose\\TGS2620\\TGS2620 Ethanol.csv', sep=',', names=['C' , 'B'])\n",
    "#plt.plot(eth['C'], eth['B'])\n",
    "plt.plot(np.log(eth['C']),np.log( eth['B']))"
   ]
  },
  {
   "cell_type": "code",
   "execution_count": 57,
   "metadata": {},
   "outputs": [
    {
     "data": {
      "text/plain": [
       "3.9058665651528637"
      ]
     },
     "execution_count": 57,
     "metadata": {},
     "output_type": "execute_result"
    }
   ],
   "source": [
    "np.log(eth['C'][12])"
   ]
  },
  {
   "cell_type": "code",
   "execution_count": 59,
   "metadata": {},
   "outputs": [
    {
     "name": "stdout",
     "output_type": "stream",
     "text": [
      "               C         B\n",
      "0   10000.000000  9.392099\n",
      "1    8811.603465  9.392099\n",
      "2    5927.803146  9.392099\n",
      "3     296.843451  9.392099\n",
      "4     496.558815  9.392099\n",
      "5     597.801192  9.392099\n",
      "6     975.014308  9.392099\n",
      "7    1366.253022  9.392099\n",
      "8    2705.418355  9.392099\n",
      "9    1980.173739  9.392099\n",
      "10   3921.088038  9.392099 2610C\n",
      "             C          B\n",
      "0  9917.809693  10.268198\n",
      "1  6841.092270  10.268198\n",
      "2  2972.475472  10.268198\n",
      "3  1857.022665  10.268198\n",
      "4   913.215926  10.268198\n",
      "5   614.512138  10.268198\n",
      "6   413.511370  10.268198\n",
      "7   302.194627  10.268198\n",
      "8  4000.834049  10.268198\n",
      "9  5040.910196  10.268198 2610D\n"
     ]
    }
   ],
   "source": [
    "air= pd.read_csv('D:\\RyanB\\VirtualNose\\TGS2610C\\TGS2610C Air.csv', sep=',', names=['C' , 'B'])\n",
    "print(air,\"2610C\")\n",
    "air= pd.read_csv('D:\\RyanB\\VirtualNose\\TGS2610D\\TGS2610D Air.csv', sep=',', names=['C' , 'B'])\n",
    "print(air, \"2610D\")"
   ]
  },
  {
   "cell_type": "code",
   "execution_count": 60,
   "metadata": {},
   "outputs": [
    {
     "name": "stdout",
     "output_type": "stream",
     "text": [
      "              C         B\n",
      "0   9918.102024  8.462154\n",
      "1   5859.453915  8.462154\n",
      "2   7749.714695  8.462154\n",
      "3   4357.984831  8.462154\n",
      "4   3010.034190  8.462154\n",
      "5   2028.349817  8.462154\n",
      "6   1000.000000  8.462154\n",
      "7    719.685673  8.462154\n",
      "8    414.817570  8.462154\n",
      "9    305.994969  8.462154\n",
      "10  1290.370084  8.462154 2611C\n",
      "              C         B\n",
      "0  10082.574240  8.760497\n",
      "1   5531.681198  8.760497\n",
      "2   3666.787264  8.760497\n",
      "3   2045.098762  8.760497\n",
      "4    794.328235  8.760497\n",
      "5    332.222140  8.760497\n",
      "6    461.621167  8.760497\n",
      "7    301.003419  8.760497 2611E\n",
      "             C          B\n",
      "0    15.453412  46.223717\n",
      "1  2597.970087  46.802631\n",
      "2   488.679803  46.802631 821\n",
      "           C      B\n",
      "0  30.943258  1.009\n",
      "1   1.000000  1.009\n",
      "2   0.125347  1.009\n",
      "3   6.476207  1.000 2602\n",
      "             C          B\n",
      "0  5098.088935  21.274965\n",
      "1   787.582933  21.274965\n",
      "2   149.304905  21.274965\n",
      "3    49.693124  21.274965 2620\n"
     ]
    }
   ],
   "source": [
    "air= pd.read_csv('D:\\RyanB\\VirtualNose\\TGS2611C\\TGS2611C Air.csv', sep=',', names=['C' , 'B'])\n",
    "print(air,\"2611C\")\n",
    "air= pd.read_csv('D:\\RyanB\\VirtualNose\\TGS2611E\\TGS2611E Air.csv', sep=',', names=['C' , 'B'])\n",
    "print(air,\"2611E\")\n",
    "air= pd.read_csv('D:\\RyanB\\VirtualNose\\TGS821\\TGS821 Air.csv', sep=',', names=['C' , 'B'])\n",
    "print(air,\"821\")\n",
    "air= pd.read_csv('D:\\RyanB\\VirtualNose\\TGS2602\\TGS2602 Air.csv', sep=',', names=['C' , 'B'])\n",
    "print(air,\"2602\")\n",
    "air= pd.read_csv('D:\\RyanB\\VirtualNose\\TGS2620\\TGS2620 Air.csv', sep=',', names=['C' , 'B'])\n",
    "print(air,\"2620\")"
   ]
  },
  {
   "cell_type": "code",
   "execution_count": 2,
   "metadata": {},
   "outputs": [
    {
     "name": "stdout",
     "output_type": "stream",
     "text": [
      "             C          B\n",
      "0    15.453412  46.223717\n",
      "1  2597.970087  46.802631\n",
      "2   488.679803  46.802631\n"
     ]
    }
   ],
   "source": [
    "air= pd.read_csv('D:\\RyanB\\VirtualNose\\TGS821\\TGS821 Air.csv', sep=',', names=['C' , 'B'])\n",
    "print(air)"
   ]
  },
  {
   "cell_type": "code",
   "execution_count": 124,
   "metadata": {},
   "outputs": [
    {
     "name": "stderr",
     "output_type": "stream",
     "text": [
      "C:\\Users\\RyanB\\anaconda3\\lib\\site-packages\\ipykernel_launcher.py:16: RuntimeWarning: divide by zero encountered in log\n",
      "  app.launch_new_instance()\n",
      "C:\\Users\\RyanB\\anaconda3\\lib\\site-packages\\numpy\\lib\\polynomial.py:736: RuntimeWarning: invalid value encountered in multiply\n",
      "  y = y * x + p[i]\n"
     ]
    },
    {
     "data": {
      "text/plain": [
       "[<matplotlib.lines.Line2D at 0x278539d6988>]"
      ]
     },
     "execution_count": 124,
     "metadata": {},
     "output_type": "execute_result"
    },
    {
     "data": {
      "image/png": "[encoded data removed]",
      "text/plain": [
       "<Figure size 432x288 with 1 Axes>"
      ]
     },
     "metadata": {
      "needs_background": "light"
     },
     "output_type": "display_data"
    }
   ],
   "source": [
    "import matplotlib.pyplot as plt\n",
    "import numpy as np\n",
    "import math\n",
    "import pandas as pd\n",
    "\n",
    "def v(x, y):\n",
    "    logx = np.log(x)\n",
    "    logy = np.log(y)\n",
    "    co = np.polyfit(logx,logy,deg=2)\n",
    "    poly = np.poly1d(co)\n",
    "    x=np.linspace(0,10, 2000)\n",
    "    y=np.zeros(len(x)) \n",
    "    B=np.zeros(len(x))\n",
    "    for i in range(0, len(x)):\n",
    "        y[i]=poly(x[i])\n",
    "        B[i]=np.exp(poly(np.log(x[i])))\n",
    "    plt.plot(x, y)\n",
    "   # plt.plot(x, B,'r')\n",
    "    plt.scatter(eth['C'], eth['B'])\n",
    "    V=20000/((6466*B)+4000)\n",
    "    return V\n",
    "\n",
    "eth= pd.read_csv('D:\\RyanB\\VirtualNose\\TGS2610C\\TGS2610C Ethanol.csv', sep=',', names=['C' , 'B'])\n",
    "\n",
    "Ve=v(eth['C'], eth['B'])\n",
    "\n",
    "\n",
    "plt.plot(eth['C'], eth['B'])\n",
    "\n"
   ]
  },
  {
   "cell_type": "code",
   "execution_count": 28,
   "metadata": {},
   "outputs": [
    {
     "data": {
      "image/png": "[encoded data removed]",
      "text/plain": [
       "<Figure size 432x288 with 1 Axes>"
      ]
     },
     "metadata": {
      "needs_background": "light"
     },
     "output_type": "display_data"
    }
   ],
   "source": [
    "plt.scatter(eth['C'], eth['B'])\n",
    "plt.yscale(\"log\")\n",
    "plt.xscale(\"log\")"
   ]
  },
  {
   "cell_type": "code",
   "execution_count": 228,
   "metadata": {},
   "outputs": [
    {
     "data": {
      "image/png": "[encoded data removed]",
      "text/plain": [
       "<Figure size 432x288 with 1 Axes>"
      ]
     },
     "metadata": {
      "needs_background": "light"
     },
     "output_type": "display_data"
    }
   ],
   "source": [
    "import matplotlib.pyplot as plt\n",
    "import numpy as np\n",
    "import math\n",
    "import pandas as pd\n",
    "\n",
    "\n",
    "A=0.05\n",
    "D=9.392099\n",
    "B=0\n",
    "E=0.99\n",
    "x=np.logspace(-1,4, 20000, base=10)\n",
    "\n",
    "y=np.zeros(len(x))\n",
    "\n",
    "eth= pd.read_csv('D:\\RyanB\\VirtualNose\\TGS2610C\\TGS2610C Ethanol.csv', sep=',', names=['C' , 'B'])\n",
    "\n",
    "\n",
    "def L(x):\n",
    "    x = A * (B-x)\n",
    "    #return 1 - x / np.sqrt(1+x**2)\n",
    "    return 1.0 / (1 + np.exp(-x))\n",
    "\n",
    "for i in range(0, len(x)):\n",
    "    y[i] =0\n",
    "    #y[i] += np.exp(4) * pow(x[i],-0.520537) * L(x[i])\n",
    "    B=0\n",
    "    y[i] +=(1 - L(x[i])) * D \n",
    "    B=900\n",
    "    y[i]+= L(x[i])*E \n",
    "\n",
    "\n",
    "#plt.plot(x,L(x)+1)\n",
    "\n",
    "plt.plot(x,y)\n",
    "plt.scatter(eth['C'], eth['B'])\n",
    "xa=np.linspace(0.1,10000,len(eth['B']))\n",
    "\n",
    "plt.yscale(\"log\")\n",
    "plt.xscale(\"log\")"
   ]
  },
  {
   "cell_type": "code",
   "execution_count": 60,
   "metadata": {},
   "outputs": [
    {
     "name": "stdout",
     "output_type": "stream",
     "text": [
      "1.0 1.0 1.0\n"
     ]
    },
    {
     "name": "stderr",
     "output_type": "stream",
     "text": [
      "C:\\Users\\RyanB\\anaconda3\\lib\\site-packages\\scipy\\optimize\\minpack.py:829: OptimizeWarning: Covariance of the parameters could not be estimated\n",
      "  category=OptimizeWarning)\n"
     ]
    },
    {
     "data": {
      "text/plain": [
       "[<matplotlib.lines.Line2D at 0x1f892035d48>]"
      ]
     },
     "execution_count": 60,
     "metadata": {},
     "output_type": "execute_result"
    },
    {
     "data": {
      "image/png": "[encoded data removed]",
      "text/plain": [
       "<Figure size 432x288 with 1 Axes>"
      ]
     },
     "metadata": {
      "needs_background": "light"
     },
     "output_type": "display_data"
    }
   ],
   "source": [
    "import numpy as np\n",
    "from scipy.optimize import curve_fit\n",
    "import pandas as pd\n",
    "import matplotlib.pyplot as plt\n",
    "%matplotlib inline\n",
    "\n",
    "\n",
    "def f(x, A, B, C):\n",
    "    return 120.53741347381361*pow(x,-0.520537)/(1+np.exp(A*(B-x))) + (1-1/(1+np.exp(A*(B-x))))*C \n",
    "eth= pd.read_csv('D:\\RyanB\\VirtualNose\\TGS2610C\\TGS2610C Ethanol.csv', sep=',', names=['C' , 'B'])\n",
    "\n",
    "x0=np.linspace(0.001, 0.01, 10)\n",
    "y0=np.zeros(len(x0))\n",
    "for i in range(0, len(x0)):\n",
    "    y0[i]=9.392099\n",
    "    eth.loc[len(eth.index)]= [x0[i],y0[i]]\n",
    "x=eth['C']\n",
    "y=eth['B']\n",
    "plt.scatter(x, y)\n",
    "plt.yscale(\"log\")\n",
    "plt.xscale(\"log\")\n",
    "\n",
    "(A, B, C), _ = opt.curve_fit(f, x, y,p0=[10,10,10])\n",
    "print(A_, B_, C_)\n",
    "\n",
    "y_fit = f(x, A_, B_, C_)\n",
    "\n",
    "plt.plot(x, y_fit)\n"
   ]
  },
  {
   "cell_type": "code",
   "execution_count": 110,
   "metadata": {},
   "outputs": [
    {
     "data": {
      "image/png": "[encoded data removed]",
      "text/plain": [
       "<Figure size 432x288 with 1 Axes>"
      ]
     },
     "metadata": {
      "needs_background": "light"
     },
     "output_type": "display_data"
    }
   ],
   "source": [
    "x0=np.linspace(0.1, 10000, 100000)\n",
    "y0=np.zeros(len(x0))\n",
    "b1=300\n",
    "for i in range(0,len(x0)):\n",
    "    y0[i]=(1-1/(1+np.exp(120-x0[i])))*(9.36) + np.exp(4.79196019)*pow(x0[i],-0.520537)/(1+np.exp(b1-x0[i]))+ (1/(1+np.exp(200-pow(x0[i], 2))))*np.exp(2.25)*pow(x0[i],-0.04*np.log(x0[i]+0.175))\n",
    "    \n",
    "plt.plot(x0, y0)\n",
    "plt.yscale(\"log\")\n",
    "plt.xscale(\"log\")"
   ]
  },
  {
   "cell_type": "code",
   "execution_count": 37,
   "metadata": {},
   "outputs": [
    {
     "data": {
      "image/png": "[encoded data removed]",
      "text/plain": [
       "<Figure size 432x288 with 1 Axes>"
      ]
     },
     "metadata": {
      "needs_background": "light"
     },
     "output_type": "display_data"
    }
   ],
   "source": [
    "import numpy as np\n",
    "import scipy.optimize as opt\n",
    "import pandas as pd\n",
    "import matplotlib.pyplot as plt\n",
    "\n",
    "\n",
    "\n",
    "A=-0.04651549; B=0.17582301; C=2.24645285\n",
    "x0=np.linspace(1, 10000, 100000)\n",
    "y=np.zeros(len(x0))\n",
    "for i in range(0, len(x0)):\n",
    "    y[i]= np.exp(4.79196019)*pow(x0[i],-0.520537)/(1+np.exp(300-x0[i]))+((np.log(x0[i]**(A*np.log(x0[i])+B)))/2)*(1-1/(1+np.exp(1-x0[i])))+(1-1/(1+np.exp((1-x0[i]))))*9.392099 \n",
    "    \n",
    "plt.plot(x0, y)\n",
    "plt.yscale(\"log\")\n",
    "plt.xscale(\"log\")"
   ]
  },
  {
   "cell_type": "code",
   "execution_count": null,
   "metadata": {},
   "outputs": [],
   "source": [
    "A=1\n",
    "D=9.392099\n",
    "B=0\n",
    "e=600\n",
    "\n",
    "\n",
    "\n",
    "(np.log(x0[i]**(A*np.log(x0[i])+B))+np.log(C))"
   ]
  },
  {
   "cell_type": "code",
   "execution_count": 43,
   "metadata": {},
   "outputs": [
    {
     "data": {
      "text/plain": [
       "array([ 0.        ,  0.01633381,  0.03050771, ..., -2.32652283,\n",
       "       -2.32652964, -2.32653645])"
      ]
     },
     "execution_count": 43,
     "metadata": {},
     "output_type": "execute_result"
    }
   ],
   "source": [
    "np.log(x0**(-0.04651549*np.log(x0)+0.17582301))"
   ]
  },
  {
   "cell_type": "code",
   "execution_count": 71,
   "metadata": {},
   "outputs": [
    {
     "data": {
      "text/plain": [
       "6.239999999999999"
      ]
     },
     "execution_count": 71,
     "metadata": {},
     "output_type": "execute_result"
    }
   ],
   "source": [
    "9.36/1.5"
   ]
  },
  {
   "cell_type": "code",
   "execution_count": 120,
   "metadata": {},
   "outputs": [
    {
     "data": {
      "image/png": "[encoded data removed]",
      "text/plain": [
       "<Figure size 432x288 with 1 Axes>"
      ]
     },
     "metadata": {
      "needs_background": "light"
     },
     "output_type": "display_data"
    }
   ],
   "source": [
    "x0=np.linspace(0.1, 10000, 100000)\n",
    "y0=np.zeros(len(x0))\n",
    "b1=300\n",
    "for i in range(0,len(x0)):\n",
    "    y0[i]= np.exp(4.79196019)*pow(x0[i],-0.520537)/(5+np.exp(200-x0[i]))+(1-1/(5+np.exp((200-x0[i]))))*9.392099 \n",
    "plt.plot(x0, y0)\n",
    "plt.yscale(\"log\")\n",
    "plt.xscale(\"log\")"
   ]
  },
  {
   "cell_type": "code",
   "execution_count": 15,
   "metadata": {},
   "outputs": [
    {
     "name": "stderr",
     "output_type": "stream",
     "text": [
      "C:\\Users\\RyanB\\anaconda3\\lib\\site-packages\\scipy\\optimize\\minpack.py:829: OptimizeWarning: Covariance of the parameters could not be estimated\n",
      "  category=OptimizeWarning)\n"
     ]
    },
    {
     "name": "stdout",
     "output_type": "stream",
     "text": [
      "[-1.06356399e-07 -4.90798054e-05  7.08526871e-01 -4.13630714e-04\n",
      "  1.20000000e+02  9.36000000e+00]\n"
     ]
    },
    {
     "data": {
      "image/png": "[encoded data removed]",
      "text/plain": [
       "<Figure size 432x288 with 1 Axes>"
      ]
     },
     "metadata": {
      "needs_background": "light"
     },
     "output_type": "display_data"
    }
   ],
   "source": [
    "import numpy as np\n",
    "from scipy.optimize import curve_fit\n",
    "import pandas as pd\n",
    "import matplotlib.pyplot as plt\n",
    "import math\n",
    "\n",
    "def polynomial(x, A, B, C, D, E, F):\n",
    "#def polynomial(x, A, B, C):\n",
    "   # L=1\n",
    "   # L=1/ (1 + np.exp(E-D*x))\n",
    "    x=A*x+B\n",
    "    return A*x**2+ B*x +C + D/(x)\n",
    "   # return (A*x)/(B+A*x)\n",
    "    #return np.exp(A*x+B)+np.exp(-A*x+B)/(np.exp(A*x+B)-np.exp(-A*x+B))*C*x**D\n",
    "    #return np.cos(x)*C\n",
    "#poly, csch, logistic, adsorption, \n",
    "\n",
    "\n",
    "x0=np.logspace(-3,4, 5000, base=10)\n",
    "y0=np.zeros(len(x0))\n",
    "\n",
    "\n",
    "\n",
    "\n",
    "eth= pd.read_csv('D:\\RyanB\\VirtualNose\\TGS2610C\\TGS2610C Ethanol.csv', sep=',', names=['C' , 'B'])\n",
    "eth.loc[len(eth.index)]= [0.1,9.36]\n",
    "eth.loc[len(eth.index)]= [0.2,9.36]\n",
    "eth.loc[len(eth.index)]= [0.3,9.36]\n",
    "eth.loc[len(eth.index)]= [10,8.36]\n",
    "eth.loc[len(eth.index)]= [100,7.36]\n",
    "x=eth['C']\n",
    "y=eth['B']\n",
    "popt, pcov = curve_fit(polynomial, x, y, [ 1, 1, 1, -0.52,\n",
    "  1.20000000e+02 , 9.36000000e+00])\n",
    "print(popt)\n",
    "\n",
    "x0=np.logspace(-5,8, 50000, base=10)\n",
    "plt.plot(x0, polynomial(x0, *popt))\n",
    "\n",
    "\n",
    "\n",
    "plt.scatter(x,y)\n",
    "#plt.plot(x0, y0)\n",
    "\n",
    "plt.yscale(\"log\")\n",
    "plt.xscale(\"log\")"
   ]
  },
  {
   "cell_type": "code",
   "execution_count": null,
   "metadata": {},
   "outputs": [],
   "source": [
    "#for i in range(0,len(x0)):\n",
    "  #  y0[i]=9.36*(1-L(x0[i])) +0.99*L(x0[i])\n",
    "   # y0[i]+=0.99*L(x0[i])\n",
    "    #y0[i] +=(120*x0[i]**-0.52)*L(x0[i])\n",
    "    #y0[i]+= 1/(1+np.exp(1-x0[i]**2+10*x0[i]))\n",
    "    #y0[i]+= 1/(1+np.exp(-0.4*x0[i]**2))\n",
    "    \n",
    "    \n",
    "#eth= pd.read_csv('D:\\RyanB\\VirtualNose\\TGS2610C\\TGS2610C Ethanol.csv', sep=',', names=['C' , 'B'])\n",
    "\n",
    "def L(x):\n",
    "    x = D * (E-x)\n",
    "    return 1.0 / (1 + math.exp(x))\n",
    "\n",
    "def logistic(x, A, B, C, D):\n",
    "    return 9.36*(1-1/(1 + np.exp(A * -x+B))) +0.99 * 1 / (1 + np.exp(C *-x+D))"
   ]
  },
  {
   "cell_type": "code",
   "execution_count": 11,
   "metadata": {},
   "outputs": [
    {
     "data": {
      "text/plain": [
       "0.7085263600266187"
      ]
     },
     "execution_count": 11,
     "metadata": {},
     "output_type": "execute_result"
    }
   ],
   "source": [
    "2.82764747e-07*1.30486068e-04**2   +     1.30486068e-04**2      +     7.08526343e-01\n"
   ]
  },
  {
   "cell_type": "code",
   "execution_count": null,
   "metadata": {},
   "outputs": [],
   "source": []
  }
 ],
 "metadata": {
  "kernelspec": {
   "display_name": "Python 3",
   "language": "python",
   "name": "python3"
  },
  "language_info": {
   "codemirror_mode": {
    "name": "ipython",
    "version": 3
   },
   "file_extension": ".py",
   "mimetype": "text/x-python",
   "name": "python",
   "nbconvert_exporter": "python",
   "pygments_lexer": "ipython3",
   "version": "3.7.9"
  }
 },
 "nbformat": 4,
 "nbformat_minor": 4
}
