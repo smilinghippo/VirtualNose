{
 "cells": [
  {
   "cell_type": "code",
   "execution_count": 75,
   "metadata": {
    "scrolled": true
   },
   "outputs": [],
   "source": [
    "import numpy as np\n",
    "import pandas as pd\n",
    "import math\n",
    "# Voltages assume no other composition impacts the voltage reading other than manufacturer specified\n",
    "# This model also assumes the voltages have no noise in the readings and that there is no dynamic impact \n",
    "\n",
    "\n",
    "\n",
    "# These functions convert a composition into a voltage by taking the resistance to composition lines,\n",
    "# relating it to a voltage.\n",
    "\n",
    "\n",
    "\n",
    "def TGS2610C_voltage(comp):\n",
    "    #comp[0]=ethanol, comp[1]=hydrogen, comp[2]=methane, comp[3]=isobutane, comp[4]=propane\n",
    "    compeff=np.zeros(5)\n",
    "    m=[-0.520537, -0.51098066, -0.52160942, -0.58191744, -0.58191744]\n",
    "    linc=[4.79196019,  4.39143575,  4.06563873,  4.3121193,  4.3121193]\n",
    "    a=[-0.04651549, -0.03856592, -0.03367033, -0.0381712, -0.0381712]\n",
    "    b=[0.17582301, 0.06968171,  -0.02132515, -0.01319158,  -0.01319158]\n",
    "    c=[2.24645285, 2.24668071, 2.24592385, 2.24112029 , 2.24112029]\n",
    "    poly = np.poly1d([m[0], linc[0]])\n",
    "    poly2 = np.poly1d([a[0], b[0], c[0]])\n",
    "    Vrl=0.0809988\n",
    "    for i in range (0, 5):\n",
    "        if comp[i]>300:\n",
    "            compeff[i]=(m[i]*comp[i]+linc[i]-linc[0])/m[0]\n",
    "        else:\n",
    "            compeff[i]=abs((math.sqrt(abs(pow(b[0],2)-4.*a[0]*(c[0]-a[i]*pow(comp[i],2)-b[i]*comp[i]-c[i])))-b[0])/(2.*a[0]))\n",
    "        if compeff[i]<1:\n",
    "            compeff[i]=0\n",
    "    compt=np.sum(compeff) \n",
    "    if compt<1:\n",
    "        compt=1\n",
    "    if  compt>300:\n",
    "            Vrl=50000/((6466*np.exp(poly(np.log(compt))))+10000)\n",
    "    else:\n",
    "            Vrl=50000/((6466*np.exp(poly2(np.log(compt))))+10000)\n",
    "    if Vrl>=5:\n",
    "        Vrl=5\n",
    "    return Vrl\n",
    "\n",
    "\n",
    "def TGS2610D_voltage(comp):\n",
    "    #comp[0]=ethanol, comp[1]=hydrogen, comp[2]=methane, comp[3]=isobutane, comp[4]=propane\n",
    "    compeff=np.zeros(5)\n",
    "    Vrl=0.14621129\n",
    "    m=[-0.0780411, -0.36560724, -0.43630751, -0.5005877, -0.52637503]\n",
    "    linc=[2.79278989,  3.18747072,  3.64038541,  3.73111725, 3.87145149]\n",
    "    a=[-0.00783943, -0.01550003, -0.02393278, -0.02587157, -0.02820639]\n",
    "    b=[0.04313954, -0.13332885, -0.07988081, -0.11532545, -0.10505025]\n",
    "    c=[2.33228852, 2.33334155, 2.33720834, 2.32664566, 2.32967364]\n",
    "    poly = np.poly1d([m[0], linc[0]])\n",
    "    poly2 = np.poly1d([a[0], b[0], c[0]])\n",
    "    for i in range (0, 5):\n",
    "        if comp[i]>300:\n",
    "            compeff[i]=(m[i]*comp[i]+linc[i]-linc[0])/m[0]\n",
    "        else:\n",
    "            compeff[i]=abs((math.sqrt(abs(pow(b[0],2)-4.*a[0]*(c[0]-a[i]*pow(comp[i],2)-b[i]*comp[i]-c[i])))-b[0])/(2.*a[0]))\n",
    "        if compeff[i]<1:\n",
    "            compeff[i]=0\n",
    "    compt=np.sum(compeff) \n",
    "    if compt<1:\n",
    "        compt=1\n",
    "    if  compt>300:\n",
    "        Vrl=50000/((6466*np.exp(poly(np.log(compt))))+10000)\n",
    "    else:\n",
    "        Vrl=50000/((6466*np.exp(poly2(np.log(compt))))+10000)\n",
    "    if Vrl>=5:\n",
    "        Vrl=5   \n",
    "    return Vrl\n",
    "\n",
    "def TGS2611C_voltage(comp):\n",
    "    #comp[0]=ethanol, comp[1]=hydrogen, comp[2]=methane, comp[3]=isobutane\n",
    "    compeff=np.zeros(4)\n",
    "    m=[-0.3711073,-0.35718333,-0.43148312,-0.38669676]\n",
    "    linc=[3.98629003, 3.6974778, 3.69045858, 3.85023112]\n",
    "    a=[0.0334765, -0.02779698, -0.02802611, -0.03170528]\n",
    "    b=[0.13054264, 0.06228454, -0.01054201, 0.08343952]\n",
    "    c=[2.14195564, 2.14556136, 2.14001655, 2.14147512]\n",
    "    poly = np.poly1d([m[0], linc[0]])\n",
    "    poly2 = np.poly1d([a[0], b[0], c[0]])\n",
    "    Vrl=0.0809988\n",
    "    for i in range (0, 4):\n",
    "        if comp[i]>300:\n",
    "            compeff[i]=(m[i]*comp[i]+linc[i]-linc[0])/m[0]\n",
    "        else:\n",
    "            compeff[i]=abs((math.sqrt(abs(pow(b[0],2)-4.*a[0]*(c[0]-a[i]*pow(comp[i],2)-b[i]*comp[i]-c[i])))-b[0])/(2.*a[0]))\n",
    "        if compeff[i]<1:\n",
    "            compeff[i]=0\n",
    "    compt=np.sum(compeff) \n",
    "    if compt<1:\n",
    "        compt=1\n",
    "    if  compt>300:\n",
    "        Vrl=50000/((6466*np.exp(poly(np.log(compt))))+10000)\n",
    "    else:\n",
    "        Vrl=50000/((6466*np.exp(poly2(np.log(compt))))+10000)\n",
    "    if Vrl>=5:\n",
    "        Vrl=5   \n",
    "    return Vrl\n",
    "\n",
    "def TGS2611E_voltage(comp):\n",
    "     #comp[0]=ethanol, comp[1]=hydrogen, comp[2]=methane, comp[3]=isobutane\n",
    "    compeff=np.zeros(4)\n",
    "    m=[0,-0.31340759, -0.395091]\n",
    "    linc=[0,3.25756, 3.39058279]\n",
    "    a=[0,-0.01990088 ,-0.02178998]\n",
    "    b=[0,-0.01657128,-0.0666278]\n",
    "    c=[0, 2.17242723, 2.17093562]\n",
    "    poly = np.poly1d([m[1], linc[1]])\n",
    "    poly2 = np.poly1d([a[1], b[1], c[1]])\n",
    "    for i in range (1, 3):\n",
    "        if comp[i]>300:\n",
    "            compeff[i]=(m[i]*comp[i]+linc[i]-linc[1])/m[1]\n",
    "        else:\n",
    "            compeff[i]=abs((math.sqrt(abs(pow(b[1],2)-4.*a[1]*(c[1]-a[i]*pow(comp[i],2)-b[i]*comp[i]-c[i])))-b[1])/(2.*a[1]))\n",
    "        if compeff[i]<1:\n",
    "            compeff[i]=0\n",
    "    compt=np.sum(compeff) \n",
    "    if compt<1:\n",
    "        compt=1\n",
    "    if  compt>300:\n",
    "        Vrl=50000/((6466*np.exp(poly(np.log(compt))))+10000)\n",
    "    else:\n",
    "        Vrl=50000/((6466*np.exp(poly2(np.log(compt))))+10000)\n",
    "    if Vrl>=5:\n",
    "        Vrl=5   \n",
    "    return Vrl\n",
    "    \n",
    "def TGS821_voltage(comp):\n",
    "    # 1,2,3,5\n",
    "    #comp[0]=ethanol, comp[1]=hydrogen, comp[2]=methane, comp[3]=isobutane, comp[4]=propane, \n",
    "    #comp[5]= compco, comp[6]=comph2s, comp[7]= comptol, comp[8]= compamm\n",
    "    m=[-0.25268139, -0.72410286 , -0.29188387,0,0,-0.61434734]\n",
    "    linc=[5.2635267, 3.27864955, 5.74540696,0,0, 6.85006096]\n",
    "    a=[-0.05202049 , -0.03111648, -0.06243998, 0 ,0,-0.0788518]\n",
    "    b=[0.55140452, -0.37389274, 0.65452653, 0, 0, 0.60331319]\n",
    "    c=[2.17036367,  2.40809788,  2.17039244,0, 0, 2.17085363]\n",
    "    complimit=[1000, 10, 1000, 1, 1, 1000]\n",
    "    poly = np.poly1d([m[1], linc[1]])\n",
    "    poly2 = np.poly1d([a[1],  b[1],  c[1]])\n",
    "    compeff=np.zeros(6)\n",
    "    for i in [0,1,2,5]:\n",
    "        if comp[i]!=0:\n",
    "            if comp[i]>complimit[i]:\n",
    "                compeff[i]=(m[i]*comp[i]+linc[i]-linc[1])/m[1]\n",
    "                if compeff[i]>complimit[1]:\n",
    "                    compeff[i]=(a[i]*pow(comp[i],2)+b[i]*comp[i]+c[i]-linc[1])/m[1]\n",
    "            else:\n",
    "                compeff[i]=abs((math.sqrt(abs(pow(b[1],2)-4.*a[1]*(c[1]-a[i]*pow(comp[i],2)-b[i]*comp[i]-c[i])))-b[1])/(2.*a[1]))                   \n",
    "    compt=np.sum(compeff)\n",
    "    if compt<1:\n",
    "        compt=1\n",
    "    if  compt>complimit[1]:\n",
    "        Vrl=50000/((12000*np.exp(poly(np.log(compt))))+10000)\n",
    "    else:\n",
    "        Vrl=50000/((12000*np.exp(poly2(np.log(compt))))+10000)\n",
    "    if Vrl>=5:\n",
    "        Vrl=5   \n",
    "    return Vrl\n",
    "\n",
    "\n",
    "def TGS2602_voltage(comp):\n",
    "   # 1 , 2 , 8, 6, 7  \n",
    "#comp[0]=ethanol, comp[1]=hydrogen, comp[2]=methane, comp[3]=isobutane, comp[4]=propane, \n",
    "#comp[5]= compco, comp[6]=comph2s, comp[7]= comptol, comp[8]= compamm\n",
    "    m=[-0.45174998,-0.45174998, -0.08410579,0,0,0,0,0,0];m[8]=-0.284918; m[6]= -0.34782794; m[7]= -0.59108458\n",
    "    linc=[-0.20899002,-0.20899002, -0.14035422,0,0,0,0,0,0];linc[8]= -0.12711518; linc[6]= -0.96296; linc[7]= -1.15168577\n",
    "    a=[-0.02704552, 0.0130067, 0.0130067,0,0,0,0,0,0]; a[8]=-0.04203248; a[6]=-0.12014485; a[7]=0.09512849\n",
    "    b=[-0.38672464, -0.14484292, -0.144842920,0, 0,0,0,0,0];b[8]=-0.16737745; b[6]=-0.46596887; b[7]=-1.00439805\n",
    "    c=[-0.18446568, -0.08019489,-0.08019489,0,0,0,0,0,0];c[8]=-0.12985859; c[6]=-0.78432546; c[7]=-0.77120877\n",
    "    \n",
    "\n",
    "    compeff=np.zeros(10)\n",
    "    poly = np.poly1d([m[0], linc[0]])\n",
    "    poly2 = np.poly1d([a[0], b[0], c[0]])\n",
    "    for i in [1 , 2 , 8, 6, 7]:\n",
    "        if comp[i]!=0:\n",
    "            if comp[i]>300:\n",
    "                compeff[i]=(m[i]*comp[i]+linc[i]-linc[0])/m[0]\n",
    "            else:\n",
    "                compeff[i]=abs((math.sqrt(abs(pow(b[0],2)-4.*a[0]*(c[0]-a[i]*pow(comp[i]),2)-b[i]*comp[i])-c[i])))-b[0])/(2.*a[0]))\n",
    "        if compeff[i]<1:\n",
    "            compeff[i]=0\n",
    "    compt=np.sum(compeff)\n",
    "    if compt<1:\n",
    "        compt=1\n",
    "    if  compt>300:\n",
    "        Vrl=50000/((90000*np.exp(poly(np.log(compt))))+10000)\n",
    "    else:\n",
    "        Vrl=50000/((90000*np.exp(poly2(np.log(compt))))+10000)\n",
    "    if Vrl>=5:\n",
    "        Vrl=5   \n",
    "    return Vrl\n",
    "\n",
    "\n",
    "def TGS2620_voltage(comp):\n",
    "    # 0 , 1, 2, 3, 5 \n",
    "#comp[0]=ethanol, comp[1]=hydrogen, comp[2]=methane, comp[3]=isobutane, comp[4]=propane, \n",
    "#comp[5]= compco, comp[6]=comph2s, comp[7]= comptol, comp[8]= compamm\n",
    "    m=[-0.63663885,-0.51568026,-0.41100547,-0.53475486, 0, -0.54209517]\n",
    "    linc=[3.6739128,2.99570642,  4.37689757,  3.3718626, 0 ,  3.9131767]\n",
    "    a=[-0.01461021 , 2.99179660e-03, -3.19579850e-02,-0.01943419, 0, -1.86217039e-03]\n",
    "    b=[-0.44820748, -5.47777751e-01, 2.08310406e-03, -0.28624749, 0, -4.88432138e-01]\n",
    "    c=[3.09488812, 3.07273115e+00, 3.10892742e+00, 3.11247261, 0, 3.15151877e+00]\n",
    "    \n",
    "    poly = np.poly1d([m[0], linc[0]])\n",
    "    poly2 = np.poly1d([a[0], b[0], c[0]])\n",
    "    compeff=np.zeros(10)\n",
    "    for i in [0, 1, 2, 3, 5]:\n",
    "        if comp[i]!=0:\n",
    "            if comp[i]>50:\n",
    "                compeff[i]=(m[i]*comp[i]+linc[i]-linc[0])/m[0]\n",
    "            else:\n",
    "                compeff[i]=abs((math.sqrt(abs(pow(b[0],2)-4.*a[0]*(c[0]-a[i]*pow(comp[i],2)-b[i]*comp[i]-c[i])))-b[0])/(2.*a[0]))\n",
    "        if compeff[i]<1:\n",
    "            compeff[i]=0\n",
    "    compt=np.sum(compeff) \n",
    "    if compt<1:\n",
    "        compt=1\n",
    "    if  compt>50:\n",
    "        Vrl=50000/((15000*np.exp(poly(np.log(compt))))+10000)\n",
    "    else:\n",
    "        Vrl=50000/((15000*np.exp(poly2(np.log(compt))))+10000)\n",
    "    if Vrl>=5:\n",
    "        Vrl=5   \n",
    "    return Vrl\n",
    "\n",
    "\n",
    "# Voltage_Virtual_Nose sends the compositions to each individual MOS and checks for a composition exceeding 1,000,000ppmV\n",
    "\n",
    "def Voltage_Virtual_Nose(comp):\n",
    "    \n",
    "    comp_total= comp[0]+ comp[1]+ comp[2]+comp[3]+comp[4]+ comp[5]+comp[6]+comp[7] + comp[8]+  comp[9]\n",
    "    if comp_total> 1000001:\n",
    "        print(\"error: comp greater than 1000000 ppm\")\n",
    "        return \n",
    "    VT=np.array([0.,0.,0.,0.,0.,0.,0.])\n",
    "    VT[0]= round(TGS2610C_voltage(comp), 3)\n",
    "    VT[1]= round(TGS2610D_voltage(comp), 3)\n",
    "    VT[2]= round(TGS2611C_voltage(comp) , 3)\n",
    "    VT[3]= round(TGS2611E_voltage(comp), 3)\n",
    "    VT[4]= round(TGS821_voltage(comp), 3)\n",
    "    VT[5]= round(TGS2602_voltage(comp), 3)\n",
    "    VT[6]= round(TGS2620_voltage(comp), 3)\n",
    "    return VT\n",
    "# competh=1; comphyd=10; compmet=1; compibut=1; compprop=10000; compair=1000000;\n",
    "# compco=1; comph2s=100; comptol=100; compamm=100\n"
   ]
  },
  {
   "cell_type": "code",
   "execution_count": null,
   "metadata": {},
   "outputs": [],
   "source": [
    "#test case 1, 0 compositions, should reply with base air value \n",
    "print(\"         Test 1: 0 compositions \")\n",
    "print(\"\")\n",
    "comp=[0, 0, 0, 0, 0, 0, 0,0, 0, 0]\n",
    "V=Voltage_Virtual_Nose(comp)\n",
    "print(V)\n",
    "print(\"\")\n",
    "print(\"check does V = [0.703 0.653 0.768 0.749 0.349  0.589 0.147]\")\n",
    "print(\"\")\n",
    "#test case 2, composition exceeds 1000000 ppm \n",
    "print(\"         Test 2:  composition exceeds 1000000 ppm \")\n",
    "print(\"\")\n",
    "comp=[0, 0, 0, 0, 0,0, 0,0, 0, 2000000]\n",
    "V=Voltage_Virtual_Nose(comp)\n",
    "print(\"\")\n",
    "#test case 3, check for changes V =  [1.553 2.731 0.398 0.469 2.061 2.341 2.587]\n",
    "print(\"         Test 3: check for unexpected changes\")\n",
    "print(\"\")\n",
    "comp=[10, 40, 30, 50, 6000,7000, 80, 50, 300, 10000]\n",
    "V=Voltage_Virtual_Nose(comp)\n",
    "print(V)\n",
    "print(\"\")\n",
    "print(\"check does V = [2.797 0.891 0.22  1.074 4.998 3.63 4.073]\")"
   ]
  },
  {
   "cell_type": "code",
   "execution_count": null,
   "metadata": {},
   "outputs": [],
   "source": [
    "# builds a database of Comp and Vout from the Virtual Nose. Set as: 0% - 20% for each component.\n",
    "\n",
    "\n",
    "k=0\n",
    "T={} \n",
    "for i in range (0, 10):\n",
    "    comp=np.array([0, 0, 0, 0, 0, 0, 0, 0, 0, 1000000])  \n",
    "    while comp[i]<=19999:\n",
    "        comp[i]=comp[i]+1\n",
    "        comp[9]=comp[9]-1\n",
    "        V=Voltage_Virtual_Nose(comp)\n",
    "        T.update({k:[[i for i in comp],V]})\n",
    "        k=k+1\n",
    "        \n"
   ]
  },
  {
   "cell_type": "code",
   "execution_count": null,
   "metadata": {
    "scrolled": false
   },
   "outputs": [],
   "source": [
    "#Creates a linear Response Model\n",
    "\n",
    "CoLinear=np.zeros([180000,10,7])\n",
    "Rs=np.zeros([180000, 7])\n",
    "\n",
    "for k in range(0, 179999):\n",
    "    for j in range (0, 7):\n",
    "        Rs[k][j]=np.log(abs(50000/T[k][1][j]-10000))\n",
    "        \n",
    "\n",
    "for k in range(0, 179999):\n",
    "    for j in range (0, 7):\n",
    "        for i in range(0, 10):\n",
    "            if T[k][1][j]!=T[k+1][1][j]:\n",
    "                if T[k][0][i]!=T[k+1][0][i]:\n",
    "                    \n",
    "                    CoLinear[k,i,j]=(T[k+1][0][i]-T[k][0][i])/(Rs[k+1][j]-Rs[k][j])\n",
    "                \n",
    "AverageK=np.zeros([7,10])\n",
    "for j in range (0, 7):\n",
    "        for i in range(0, 10):\n",
    "            count=0\n",
    "            TotalK=0\n",
    "            for k in range(0, 179999):\n",
    "                if CoLinear[k][i,j]!=0:\n",
    "                    count=count+1\n",
    "                    TotalK=TotalK + CoLinear[k][i,j]\n",
    "            if count!=0:\n",
    "                AverageK[j,i]=TotalK/count\n",
    "            else:\n",
    "                AverageK[j,i]=0         \n",
    "\n",
    "Vcomptest=[0, 0, 0, 0, 0, 0, 0, 0, 0, 900000]\n",
    "V=Voltage_Virtual_Nose(Vcomptest)\n",
    "Caver=np.dot(V, AverageK)\n",
    "Vp=Voltage_Virtual_Nose(Caver)\n",
    "print(V)\n",
    "print(Vp)\n",
    "print(Caver)"
   ]
  },
  {
   "cell_type": "code",
   "execution_count": null,
   "metadata": {},
   "outputs": [],
   "source": [
    "comp=[0, 0, 0, 0, 0, 0, 0, 0, 0, 900000]\n",
    "V0=Voltage_Virtual_Nose(comp)\n",
    "comp=[0, 0, 0, 0, 10000, 0, 0, 0, 0, 900000]\n",
    "V=Voltage_Virtual_Nose(comp)\n",
    "Caver=np.dot(V, AverageK)\n",
    "#-2.18*np.dot(V0, AverageK)\n",
    "Vp=Voltage_Virtual_Nose(Caver)\n",
    "print(V)\n",
    "print(Vp)\n"
   ]
  },
  {
   "cell_type": "code",
   "execution_count": null,
   "metadata": {},
   "outputs": [],
   "source": [
    "import matplotlib.pyplot as plt\n",
    "\n",
    "a=[-0.02704552, -0.02704552, 0.0130067,0,0,0,0,0,0]; a[8]=-0.04203248; a[6]=-0.12014485; a[7]=0.09512849\n",
    "b=[-0.38672464, -0.38672464, -0.144842920,0, 0,0,0,0,0];b[8]=-0.16737745; b[6]=-0.46596887; b[7]=-1.00439805\n",
    "c=[-0.18446568, -0.18446568,-0.08019489, 0, 0,0,0,0,0];c[8]=-0.12985859; c[6]=-0.78432546; c[7]=-0.77120877\n",
    "poly2 = np.poly1d([a[0], b[0], c[0]])\n",
    "\n",
    "x=np.linspace(0,100, 2000)\n",
    "y=np.zeros(len(x)) \n",
    "for i in range(0, len(x)):\n",
    "    y[i]=poly2(x[i])\n",
    "\n",
    "plt.plot(x, y)\n"
   ]
  },
  {
   "cell_type": "code",
   "execution_count": 94,
   "metadata": {},
   "outputs": [
    {
     "name": "stderr",
     "output_type": "stream",
     "text": [
      "C:\\Users\\RyanB\\anaconda3\\lib\\site-packages\\ipykernel_launcher.py:27: RuntimeWarning: divide by zero encountered in log\n",
      "C:\\Users\\RyanB\\anaconda3\\lib\\site-packages\\numpy\\lib\\polynomial.py:736: RuntimeWarning: invalid value encountered in multiply\n",
      "  y = y * x + p[i]\n"
     ]
    }
   ],
   "source": [
    "import matplotlib.pyplot as plt\n",
    "import numpy as np\n",
    "import math\n",
    "\n",
    "def TGS2610C_voltage(comp):\n",
    "    #comp[0]=ethanol, comp[1]=hydrogen, comp[2]=methane, comp[3]=isobutane, comp[4]=propane\n",
    "    compeff=np.zeros(5)\n",
    "    m=[-0.520537, -0.51098066, -0.52160942, -0.58191744, -0.58191744]\n",
    "    linc=[4.79196019,  4.39143575,  4.06563873,  4.3121193,  4.3121193]\n",
    "    a=[-0.04651549, -0.03856592, -0.03367033, -0.0381712, -0.0381712]\n",
    "    b=[0.17582301, 0.06968171,  -0.02132515, -0.01319158,  -0.01319158]\n",
    "    c=[2.24645285, 2.24668071, 2.24592385, 2.24112029 , 2.24112029]\n",
    "    poly = np.poly1d([m[0], linc[0]])\n",
    "    poly2 = np.poly1d([a[0], b[0], c[0]])\n",
    "    Vrl=0.0809988\n",
    "    for i in range (0, 5):\n",
    "        if comp[i]!=0:\n",
    "            if comp[i]>300:\n",
    "                compeff[i]=(m[i]*np.log(comp[i])+linc[i]-linc[0])/m[0]\n",
    "            else:\n",
    "                compeff[i]=(math.sqrt(abs(pow(b[0],2)-4.*a[0]*(c[0]-a[i]*pow(np.log(comp[i]),2)-b[i]*np.log(comp[i])-c[i])))-b[0])/(2.*a[0])\n",
    "\n",
    "    compt=np.sum(abs(compeff)) \n",
    "    if  compt>300:\n",
    "            Vrl=50000/(6466*np.exp(poly(np.log(compt)))+10000)\n",
    "    else:\n",
    "            Vrl=50000/(6466*np.exp(poly2(np.log(compt)))+10000)\n",
    "    if Vrl>=5:\n",
    "        Vrl=5\n",
    "    return Vrl\n",
    "        \n",
    "#for i in range (0, 5):\n",
    "T={}\n",
    "k=0\n",
    "comp=np.array([0, 0, 0, 0, 0, 0, 0, 0, 0, 1000000])  \n",
    "for i in range (0, 5):\n",
    "    while comp[i]<=19999:\n",
    "        comp[i]=comp[i]+1\n",
    "        comp[9]=comp[9]-1\n",
    "        V=TGS2610C_voltage(comp)\n",
    "        T.update({k:[[i for i in comp],V]})\n",
    "        k=k+1\n",
    "        \n",
    "\n",
    "#for i in range(0, 5):\n",
    "#plt.plot(T[:][1], V)"
   ]
  },
  {
   "cell_type": "code",
   "execution_count": 97,
   "metadata": {},
   "outputs": [
    {
     "ename": "KeyError",
     "evalue": "100000",
     "output_type": "error",
     "traceback": [
      "\u001b[1;31m---------------------------------------------------------------------------\u001b[0m",
      "\u001b[1;31mKeyError\u001b[0m                                  Traceback (most recent call last)",
      "\u001b[1;32m<ipython-input-97-131a72a64586>\u001b[0m in \u001b[0;36m<module>\u001b[1;34m\u001b[0m\n\u001b[0;32m      5\u001b[0m \u001b[1;32mfor\u001b[0m \u001b[0mj\u001b[0m \u001b[1;32min\u001b[0m \u001b[0mrange\u001b[0m\u001b[1;33m(\u001b[0m\u001b[1;36m0\u001b[0m\u001b[1;33m,\u001b[0m\u001b[1;36m6\u001b[0m\u001b[1;33m)\u001b[0m\u001b[1;33m:\u001b[0m\u001b[1;33m\u001b[0m\u001b[1;33m\u001b[0m\u001b[0m\n\u001b[0;32m      6\u001b[0m     \u001b[1;32mfor\u001b[0m \u001b[0mk\u001b[0m \u001b[1;32min\u001b[0m \u001b[0mrange\u001b[0m\u001b[1;33m(\u001b[0m\u001b[1;36m0\u001b[0m\u001b[1;33m+\u001b[0m\u001b[0mnstep\u001b[0m\u001b[1;33m,\u001b[0m\u001b[0mnstep\u001b[0m\u001b[1;33m+\u001b[0m\u001b[1;36m20000\u001b[0m\u001b[1;33m)\u001b[0m\u001b[1;33m:\u001b[0m\u001b[1;33m\u001b[0m\u001b[1;33m\u001b[0m\u001b[0m\n\u001b[1;32m----> 7\u001b[1;33m         \u001b[0mx\u001b[0m\u001b[1;33m[\u001b[0m\u001b[0mk\u001b[0m\u001b[1;33m-\u001b[0m\u001b[0mnstep\u001b[0m\u001b[1;33m]\u001b[0m\u001b[1;33m[\u001b[0m\u001b[0mj\u001b[0m\u001b[1;33m]\u001b[0m\u001b[1;33m=\u001b[0m\u001b[0mT\u001b[0m\u001b[1;33m[\u001b[0m\u001b[0mk\u001b[0m\u001b[1;33m]\u001b[0m\u001b[1;33m[\u001b[0m\u001b[1;36m0\u001b[0m\u001b[1;33m]\u001b[0m\u001b[1;33m[\u001b[0m\u001b[0mj\u001b[0m\u001b[1;33m]\u001b[0m\u001b[1;33m\u001b[0m\u001b[1;33m\u001b[0m\u001b[0m\n\u001b[0m\u001b[0;32m      8\u001b[0m         \u001b[0my\u001b[0m\u001b[1;33m[\u001b[0m\u001b[0mk\u001b[0m\u001b[1;33m-\u001b[0m\u001b[0mnstep\u001b[0m\u001b[1;33m]\u001b[0m\u001b[1;33m[\u001b[0m\u001b[0mj\u001b[0m\u001b[1;33m]\u001b[0m\u001b[1;33m=\u001b[0m\u001b[0mT\u001b[0m\u001b[1;33m[\u001b[0m\u001b[0mk\u001b[0m\u001b[1;33m]\u001b[0m\u001b[1;33m[\u001b[0m\u001b[1;36m1\u001b[0m\u001b[1;33m]\u001b[0m\u001b[1;33m\u001b[0m\u001b[1;33m\u001b[0m\u001b[0m\n\u001b[0;32m      9\u001b[0m     \u001b[0mnstep\u001b[0m\u001b[1;33m=\u001b[0m\u001b[0mnstep\u001b[0m\u001b[1;33m+\u001b[0m\u001b[1;36m20000\u001b[0m\u001b[1;33m\u001b[0m\u001b[1;33m\u001b[0m\u001b[0m\n",
      "\u001b[1;31mKeyError\u001b[0m: 100000"
     ]
    },
    {
     "data": {
      "image/png": "[encoded data removed]",
      "text/plain": [
       "<Figure size 432x288 with 1 Axes>"
      ]
     },
     "metadata": {
      "needs_background": "light"
     },
     "output_type": "display_data"
    }
   ],
   "source": [
    "x=np.zeros([20000, 6])\n",
    "y=np.zeros([20000, 6])\n",
    "#for i in range(0, 5):\n",
    "nstep=0\n",
    "for j in range(0,6): \n",
    "    for k in range(0+nstep,nstep+20000):\n",
    "        x[k-nstep][j]=T[k][0][j]\n",
    "        y[k-nstep][j]=T[k][1]\n",
    "    nstep=nstep+20000\n",
    "    plt.plot(x[:, j], y[:, j])"
   ]
  },
  {
   "cell_type": "code",
   "execution_count": 24,
   "metadata": {},
   "outputs": [
    {
     "ename": "SyntaxError",
     "evalue": "invalid syntax (<ipython-input-24-8dd1812f3877>, line 1)",
     "output_type": "error",
     "traceback": [
      "\u001b[1;36m  File \u001b[1;32m\"<ipython-input-24-8dd1812f3877>\"\u001b[1;36m, line \u001b[1;32m1\u001b[0m\n\u001b[1;33m    print(T[;][0][0], y)\u001b[0m\n\u001b[1;37m            ^\u001b[0m\n\u001b[1;31mSyntaxError\u001b[0m\u001b[1;31m:\u001b[0m invalid syntax\n"
     ]
    }
   ],
   "source": [
    "print(T[][0][0], y)"
   ]
  },
  {
   "cell_type": "code",
   "execution_count": 98,
   "metadata": {},
   "outputs": [
    {
     "data": {
      "text/plain": [
       "[<matplotlib.lines.Line2D at 0x1e303d36a48>]"
      ]
     },
     "execution_count": 98,
     "metadata": {},
     "output_type": "execute_result"
    },
    {
     "data": {
      "image/png": "[encoded data removed]",
      "text/plain": [
       "<Figure size 432x288 with 1 Axes>"
      ]
     },
     "metadata": {
      "needs_background": "light"
     },
     "output_type": "display_data"
    }
   ],
   "source": [
    "\n",
    "plt.plot(xhyd, yhyd)\n",
    "plt.plot(xmet, ymet)\n",
    "plt.plot(xib, yib)\n",
    "plt.plot(xp, yp)"
   ]
  },
  {
   "cell_type": "code",
   "execution_count": 34,
   "metadata": {},
   "outputs": [
    {
     "name": "stdout",
     "output_type": "stream",
     "text": [
      "100000\n"
     ]
    }
   ],
   "source": [
    "print(k)"
   ]
  },
  {
   "cell_type": "code",
   "execution_count": 99,
   "metadata": {},
   "outputs": [
    {
     "data": {
      "text/plain": [
       "[<matplotlib.lines.Line2D at 0x1e303d06608>]"
      ]
     },
     "execution_count": 99,
     "metadata": {},
     "output_type": "execute_result"
    },
    {
     "data": {
      "image/png": "[encoded data removed]",
      "text/plain": [
       "<Figure size 432x288 with 1 Axes>"
      ]
     },
     "metadata": {
      "needs_background": "light"
     },
     "output_type": "display_data"
    }
   ],
   "source": [
    "plt.plot(xp, yp)"
   ]
  },
  {
   "cell_type": "code",
   "execution_count": 63,
   "metadata": {},
   "outputs": [
    {
     "name": "stdout",
     "output_type": "stream",
     "text": [
      "0.0012964069790293437\n"
     ]
    }
   ],
   "source": [
    "a=[-0.04651549, -0.03856592, -0.03367033, -0.0381712, -0.0381712]\n",
    "b=[0.17582301, 0.06968171,  -0.02132515, -0.01319158,  -0.01319158]\n",
    "c=[2.24645285, 2.24668071, 2.24592385, 2.24112029 , 2.24112029]\n",
    "\n",
    "compeff=abs((math.sqrt(abs(pow(b[0],2)-4.*a[0]*(c[0]-a[1]*pow(0,2)-b[1]*0-c[1])))-b[0])/(2.*a[0]))\n",
    "print(compeff)"
   ]
  },
  {
   "cell_type": "code",
   "execution_count": 65,
   "metadata": {},
   "outputs": [
    {
     "ename": "TypeError",
     "evalue": "dispatcher for __array_function__ did not return an iterable",
     "output_type": "error",
     "traceback": [
      "\u001b[1;31m---------------------------------------------------------------------------\u001b[0m",
      "\u001b[1;31mTypeError\u001b[0m                                 Traceback (most recent call last)",
      "\u001b[1;32m<ipython-input-65-ba8e3775d424>\u001b[0m in \u001b[0;36m<module>\u001b[1;34m\u001b[0m\n\u001b[0;32m      2\u001b[0m \u001b[0mb\u001b[0m\u001b[1;33m=\u001b[0m\u001b[1;33m[\u001b[0m\u001b[1;36m0.17582301\u001b[0m\u001b[1;33m,\u001b[0m \u001b[1;36m0.06968171\u001b[0m\u001b[1;33m,\u001b[0m  \u001b[1;33m-\u001b[0m\u001b[1;36m0.02132515\u001b[0m\u001b[1;33m,\u001b[0m \u001b[1;33m-\u001b[0m\u001b[1;36m0.01319158\u001b[0m\u001b[1;33m,\u001b[0m  \u001b[1;33m-\u001b[0m\u001b[1;36m0.01319158\u001b[0m\u001b[1;33m]\u001b[0m\u001b[1;33m\u001b[0m\u001b[1;33m\u001b[0m\u001b[0m\n\u001b[0;32m      3\u001b[0m \u001b[0mc\u001b[0m\u001b[1;33m=\u001b[0m\u001b[1;33m[\u001b[0m\u001b[1;36m2.24645285\u001b[0m\u001b[1;33m,\u001b[0m \u001b[1;36m2.24668071\u001b[0m\u001b[1;33m,\u001b[0m \u001b[1;36m2.24592385\u001b[0m\u001b[1;33m,\u001b[0m \u001b[1;36m2.24112029\u001b[0m \u001b[1;33m,\u001b[0m \u001b[1;36m2.24112029\u001b[0m\u001b[1;33m]\u001b[0m\u001b[1;33m\u001b[0m\u001b[1;33m\u001b[0m\u001b[0m\n\u001b[1;32m----> 4\u001b[1;33m \u001b[0mpoly2\u001b[0m\u001b[1;33m=\u001b[0m\u001b[0mnp\u001b[0m\u001b[1;33m.\u001b[0m\u001b[0mpoly1d\u001b[0m\u001b[1;33m(\u001b[0m\u001b[0ma\u001b[0m\u001b[1;33m[\u001b[0m\u001b[1;36m0\u001b[0m\u001b[1;33m]\u001b[0m\u001b[1;33m,\u001b[0m \u001b[0mb\u001b[0m\u001b[1;33m[\u001b[0m\u001b[1;36m0\u001b[0m\u001b[1;33m]\u001b[0m\u001b[1;33m,\u001b[0m \u001b[0mc\u001b[0m\u001b[1;33m[\u001b[0m\u001b[1;36m0\u001b[0m\u001b[1;33m]\u001b[0m\u001b[1;33m)\u001b[0m\u001b[1;33m\u001b[0m\u001b[1;33m\u001b[0m\u001b[0m\n\u001b[0m\u001b[0;32m      5\u001b[0m \u001b[1;33m\u001b[0m\u001b[0m\n\u001b[0;32m      6\u001b[0m \u001b[0mVrl\u001b[0m\u001b[1;33m=\u001b[0m\u001b[1;36m50000\u001b[0m\u001b[1;33m/\u001b[0m\u001b[1;33m(\u001b[0m\u001b[1;36m6466\u001b[0m\u001b[1;33m*\u001b[0m\u001b[0mnp\u001b[0m\u001b[1;33m.\u001b[0m\u001b[0mexp\u001b[0m\u001b[1;33m(\u001b[0m\u001b[0mpoly2\u001b[0m\u001b[1;33m(\u001b[0m\u001b[0mnp\u001b[0m\u001b[1;33m.\u001b[0m\u001b[0mlog\u001b[0m\u001b[1;33m(\u001b[0m\u001b[1;36m0.0012964069790293437\u001b[0m\u001b[1;33m)\u001b[0m\u001b[1;33m)\u001b[0m\u001b[1;33m)\u001b[0m\u001b[1;33m+\u001b[0m\u001b[1;36m10000\u001b[0m\u001b[1;33m)\u001b[0m\u001b[1;33m\u001b[0m\u001b[1;33m\u001b[0m\u001b[0m\n",
      "\u001b[1;32m~\\anaconda3\\lib\\site-packages\\numpy\\lib\\polynomial.py\u001b[0m in \u001b[0;36m__init__\u001b[1;34m(self, c_or_r, r, variable)\u001b[0m\n\u001b[0;32m   1166\u001b[0m             \u001b[1;32mreturn\u001b[0m\u001b[1;33m\u001b[0m\u001b[1;33m\u001b[0m\u001b[0m\n\u001b[0;32m   1167\u001b[0m         \u001b[1;32mif\u001b[0m \u001b[0mr\u001b[0m\u001b[1;33m:\u001b[0m\u001b[1;33m\u001b[0m\u001b[1;33m\u001b[0m\u001b[0m\n\u001b[1;32m-> 1168\u001b[1;33m             \u001b[0mc_or_r\u001b[0m \u001b[1;33m=\u001b[0m \u001b[0mpoly\u001b[0m\u001b[1;33m(\u001b[0m\u001b[0mc_or_r\u001b[0m\u001b[1;33m)\u001b[0m\u001b[1;33m\u001b[0m\u001b[1;33m\u001b[0m\u001b[0m\n\u001b[0m\u001b[0;32m   1169\u001b[0m         \u001b[0mc_or_r\u001b[0m \u001b[1;33m=\u001b[0m \u001b[0matleast_1d\u001b[0m\u001b[1;33m(\u001b[0m\u001b[0mc_or_r\u001b[0m\u001b[1;33m)\u001b[0m\u001b[1;33m\u001b[0m\u001b[1;33m\u001b[0m\u001b[0m\n\u001b[0;32m   1170\u001b[0m         \u001b[1;32mif\u001b[0m \u001b[0mc_or_r\u001b[0m\u001b[1;33m.\u001b[0m\u001b[0mndim\u001b[0m \u001b[1;33m>\u001b[0m \u001b[1;36m1\u001b[0m\u001b[1;33m:\u001b[0m\u001b[1;33m\u001b[0m\u001b[1;33m\u001b[0m\u001b[0m\n",
      "\u001b[1;32m<__array_function__ internals>\u001b[0m in \u001b[0;36mpoly\u001b[1;34m(*args, **kwargs)\u001b[0m\n",
      "\u001b[1;31mTypeError\u001b[0m: dispatcher for __array_function__ did not return an iterable"
     ]
    }
   ],
   "source": [
    "a=[-0.04651549, -0.03856592, -0.03367033, -0.0381712, -0.0381712]\n",
    "b=[0.17582301, 0.06968171,  -0.02132515, -0.01319158,  -0.01319158]\n",
    "c=[2.24645285, 2.24668071, 2.24592385, 2.24112029 , 2.24112029]\n",
    "poly2=np.poly1d(a[0], b[0], c[0])\n",
    "\n",
    "Vrl=50000/(6466*np.exp(poly2(np.log(0.0012964069790293437)))+10000)\n",
    "print(poly2)"
   ]
  },
  {
   "cell_type": "code",
   "execution_count": 79,
   "metadata": {},
   "outputs": [
    {
     "data": {
      "image/png": "[encoded data removed]",
      "text/plain": [
       "<Figure size 432x288 with 1 Axes>"
      ]
     },
     "metadata": {
      "needs_background": "light"
     },
     "output_type": "display_data"
    }
   ],
   "source": [
    "a=[-0.04651549, -0.03856592, -0.03367033, -0.0381712, -0.0381712]\n",
    "b=[0.17582301, 0.06968171,  -0.02132515, -0.01319158,  -0.01319158]\n",
    "c=[2.24645285, 2.24668071, 2.24592385, 2.24112029 , 2.24112029]\n",
    "\n",
    "x=np.linspace(1,300, 2000)\n",
    "y=np.zeros([len(x), 6]) \n",
    "for j in range(0,5):\n",
    "    poly2 = np.poly1d([a[j], b[j], c[j]])\n",
    "    for i in range(0, len(x)):\n",
    "        y[i][j]=np.exp(poly2(abs((math.sqrt(abs(pow(b[0],2)-4.*a[0]*(c[0]-a[1]*pow(np.log(x[i]),2)-b[1]*np.log(x[i])-c[1])))-b[0])/(2.*a[0]))))\n",
    "    plt.plot(x, y[:,j])"
   ]
  },
  {
   "cell_type": "code",
   "execution_count": null,
   "metadata": {},
   "outputs": [],
   "source": []
  }
 ],
 "metadata": {
  "kernelspec": {
   "display_name": "Python 3",
   "language": "python",
   "name": "python3"
  },
  "language_info": {
   "codemirror_mode": {
    "name": "ipython",
    "version": 3
   },
   "file_extension": ".py",
   "mimetype": "text/x-python",
   "name": "python",
   "nbconvert_exporter": "python",
   "pygments_lexer": "ipython3",
   "version": "3.7.9"
  }
 },
 "nbformat": 4,
 "nbformat_minor": 4
}
